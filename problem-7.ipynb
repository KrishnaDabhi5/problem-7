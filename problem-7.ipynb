{
 "cells": [
  {
   "cell_type": "code",
   "execution_count": 1,
   "id": "0723f026",
   "metadata": {},
   "outputs": [],
   "source": [
    "#Write a program that will tell whether the given year is a leap year or not."
   ]
  },
  {
   "cell_type": "code",
   "execution_count": 2,
   "id": "2c2cf79a",
   "metadata": {},
   "outputs": [
    {
     "name": "stdout",
     "output_type": "stream",
     "text": [
      "enter the year: 2024\n",
      "year is leap\n"
     ]
    }
   ],
   "source": [
    "year = int(input(\"enter the year: \"))\n",
    "if year %4 == 0:\n",
    "    print(\"year is leap\")\n",
    "else:\n",
    "    print(\"year is not leap\")"
   ]
  },
  {
   "cell_type": "code",
   "execution_count": 3,
   "id": "c2dfda5e",
   "metadata": {},
   "outputs": [
    {
     "name": "stdout",
     "output_type": "stream",
     "text": [
      "enter the year: 2022\n",
      "year is not leap\n"
     ]
    }
   ],
   "source": [
    "year = int(input(\"enter the year: \"))\n",
    "if year %4 == 0:\n",
    "    print(\"year is leap\")\n",
    "else:\n",
    "    print(\"year is not leap\")"
   ]
  },
  {
   "cell_type": "code",
   "execution_count": 4,
   "id": "403d12bb",
   "metadata": {},
   "outputs": [
    {
     "name": "stdout",
     "output_type": "stream",
     "text": [
      "enter the year: 2019\n",
      "year is not leap\n"
     ]
    }
   ],
   "source": [
    "year = int(input(\"enter the year: \"))\n",
    "if year %4 == 0:\n",
    "    print(\"year is leap\")\n",
    "else:\n",
    "    print(\"year is not leap\")"
   ]
  },
  {
   "cell_type": "code",
   "execution_count": null,
   "id": "c4a1a0cf",
   "metadata": {},
   "outputs": [],
   "source": []
  }
 ],
 "metadata": {
  "kernelspec": {
   "display_name": "Python 3 (ipykernel)",
   "language": "python",
   "name": "python3"
  },
  "language_info": {
   "codemirror_mode": {
    "name": "ipython",
    "version": 3
   },
   "file_extension": ".py",
   "mimetype": "text/x-python",
   "name": "python",
   "nbconvert_exporter": "python",
   "pygments_lexer": "ipython3",
   "version": "3.10.8"
  }
 },
 "nbformat": 4,
 "nbformat_minor": 5
}
